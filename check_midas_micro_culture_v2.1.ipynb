{
 "cells": [
  {
   "cell_type": "code",
   "execution_count": 1,
   "metadata": {},
   "outputs": [],
   "source": [
    "import pandas as pd\n",
    "import numpy as np"
   ]
  },
  {
   "cell_type": "code",
   "execution_count": 2,
   "metadata": {},
   "outputs": [],
   "source": [
    "from datetime import datetime"
   ]
  },
  {
   "cell_type": "code",
   "execution_count": 3,
   "metadata": {},
   "outputs": [],
   "source": [
    "#date_parser=lambda x:datetime(x,\"%Y-%m-%d\")"
   ]
  },
  {
   "cell_type": "code",
   "execution_count": 4,
   "metadata": {},
   "outputs": [],
   "source": [
    "verified_date=('2081-03-04') #change the date as required to report"
   ]
  },
  {
   "cell_type": "markdown",
   "metadata": {},
   "source": [
    "Read Sample file"
   ]
  },
  {
   "cell_type": "code",
   "execution_count": 5,
   "metadata": {},
   "outputs": [],
   "source": [
    "sample=pd.read_excel('../ACORN-HAI/2024_06_18/MIDAS_Sample_2024_06_18.xlsx',skiprows=4)\n",
    "sample_stat=pd.read_excel('../ACORN-HAI/2024_06_18/MIDAS_Sample_stat_2024_06_18.xlsx',skiprows=4)\n",
    "blood=pd.read_excel('../ACORN-HAI/2024_06_18/MIDAS_BLOOD_REPORT_2024_06_18.xlsx',skiprows=4)\n",
    "bal=pd.read_excel('../ACORN-HAI/2024_06_18/MIDAS_BAL_REPORT_2024_06_18.xlsx',skiprows=4)\n",
    "et=pd.read_excel('../ACORN-HAI/2024_06_18/MIDAS_ET_REPORT_2024_06_18.xlsx',skiprows=4)\n",
    "#sample.head(5)"
   ]
  },
  {
   "cell_type": "code",
   "execution_count": 6,
   "metadata": {},
   "outputs": [],
   "source": [
    "#sample_stat['VERIFIEDDATETIME'] = sample_stat['VERIFIEDDATETIME'].apply(lambda x: datetime.strptime(x, '%Y-%m-%d'))"
   ]
  },
  {
   "cell_type": "code",
   "execution_count": 7,
   "metadata": {},
   "outputs": [],
   "source": [
    "#converting Verified DateTime type from str to datetime format\n",
    "sample_stat['VERIFIEDDATETIME'] = pd.to_datetime(sample_stat['VERIFIEDDATETIME'],format='%Y-%m-%d',errors='coerce')"
   ]
  },
  {
   "cell_type": "code",
   "execution_count": 8,
   "metadata": {},
   "outputs": [
    {
     "name": "stderr",
     "output_type": "stream",
     "text": [
      "C:\\Users\\Dell\\AppData\\Local\\Temp\\ipykernel_14584\\2099482098.py:1: FutureWarning: DataFrame.fillna with 'method' is deprecated and will raise in a future version. Use obj.ffill() or obj.bfill() instead.\n",
      "  sample.fillna(method='ffill', inplace = True)\n"
     ]
    }
   ],
   "source": [
    "sample.fillna(method='ffill', inplace = True)"
   ]
  },
  {
   "cell_type": "code",
   "execution_count": 9,
   "metadata": {},
   "outputs": [
    {
     "data": {
      "text/plain": [
       "S.No               911\n",
       "patientid          911\n",
       "patientname        911\n",
       "SN                 911\n",
       "Testname           911\n",
       "RUNNO              911\n",
       "agesex             911\n",
       "modifytime         911\n",
       "Result               0\n",
       "PATIENTTYPE        911\n",
       "WARDNAME           911\n",
       "SAMPLETAKENTIME    911\n",
       "dtype: int64"
      ]
     },
     "execution_count": 9,
     "metadata": {},
     "output_type": "execute_result"
    }
   ],
   "source": [
    "sample.count()"
   ]
  },
  {
   "cell_type": "code",
   "execution_count": 10,
   "metadata": {},
   "outputs": [
    {
     "data": {
      "text/plain": [
       "S.No               False\n",
       "patientid          False\n",
       "patientname        False\n",
       "SN                 False\n",
       "Testname           False\n",
       "RUNNO              False\n",
       "agesex             False\n",
       "modifytime         False\n",
       "Result              True\n",
       "PATIENTTYPE        False\n",
       "WARDNAME           False\n",
       "SAMPLETAKENTIME    False\n",
       "dtype: bool"
      ]
     },
     "execution_count": 10,
     "metadata": {},
     "output_type": "execute_result"
    }
   ],
   "source": [
    "sample.isna().any()"
   ]
  },
  {
   "cell_type": "code",
   "execution_count": 11,
   "metadata": {},
   "outputs": [
    {
     "data": {
      "text/plain": [
       "Index(['SNO', 'PATIENTID', 'VISITID', 'INPATIENTID', 'TESTNAMEID',\n",
       "       'PATIENTTESTID', 'TESTPACKAGEID', 'CANCELSTATUS', 'AGESEX',\n",
       "       'ISPACKAGETEST', 'BILLNO', 'DEPTYPE', 'TESTDATE', 'TESTTIME',\n",
       "       'PATIENTTESTDATE', 'PATIENTTESTTIME', 'TESTPROGRESSSTATUS',\n",
       "       'ISHRISWEBUPLOAD', 'FINDINGPOSTBY', 'FINDINGPOSTDATETIME', 'VERIFIEDBY',\n",
       "       'COLLECTEDBY', 'VERIFIEDDATETIME', 'TITLE', 'PATIENTNAME', 'SAMPLENO',\n",
       "       'NEWINPATIENTID', 'TESTNAME', 'TESTNAMECODE', 'DEPID', 'LABNO',\n",
       "       'DISPER', 'PATIENTTYPE', 'MOBILENO', 'LOCATIONWISEID',\n",
       "       'ISMACHINERESULT'],\n",
       "      dtype='object')"
      ]
     },
     "execution_count": 11,
     "metadata": {},
     "output_type": "execute_result"
    }
   ],
   "source": [
    "sample_stat.columns"
   ]
  },
  {
   "cell_type": "code",
   "execution_count": 12,
   "metadata": {},
   "outputs": [],
   "source": [
    "#sample_stat['VERIFIEDDATETIME']=sample_stat['VERIFIEDDATETIME'].str.replace('/','-')"
   ]
  },
  {
   "cell_type": "code",
   "execution_count": 13,
   "metadata": {},
   "outputs": [],
   "source": [
    "#sample_stat[occursin.(\"2081/02/29 \",sample_stat.VERIFIEDDATETIME), :]   #Select Sample stat date"
   ]
  },
  {
   "cell_type": "code",
   "execution_count": 14,
   "metadata": {},
   "outputs": [],
   "source": [
    "#sample_stat['VERIFIEDDATETIME'].str.startswith(verified_date)  #Select Sample stat with verified date"
   ]
  },
  {
   "cell_type": "code",
   "execution_count": 15,
   "metadata": {},
   "outputs": [
    {
     "data": {
      "text/plain": [
       "SNO                             int64\n",
       "PATIENTID                       int64\n",
       "VISITID                       float64\n",
       "INPATIENTID                     int64\n",
       "TESTNAMEID                      int64\n",
       "PATIENTTESTID                   int64\n",
       "TESTPACKAGEID                   int64\n",
       "CANCELSTATUS                  float64\n",
       "AGESEX                         object\n",
       "ISPACKAGETEST                  object\n",
       "BILLNO                         object\n",
       "DEPTYPE                        object\n",
       "TESTDATE                       object\n",
       "TESTTIME                       object\n",
       "PATIENTTESTDATE                object\n",
       "PATIENTTESTTIME                object\n",
       "TESTPROGRESSSTATUS              int64\n",
       "ISHRISWEBUPLOAD                object\n",
       "FINDINGPOSTBY                  object\n",
       "FINDINGPOSTDATETIME            object\n",
       "VERIFIEDBY                     object\n",
       "COLLECTEDBY                    object\n",
       "VERIFIEDDATETIME       datetime64[ns]\n",
       "TITLE                          object\n",
       "PATIENTNAME                    object\n",
       "SAMPLENO                       object\n",
       "NEWINPATIENTID                float64\n",
       "TESTNAME                       object\n",
       "TESTNAMECODE                   object\n",
       "DEPID                           int64\n",
       "LABNO                           int64\n",
       "DISPER                        float64\n",
       "PATIENTTYPE                    object\n",
       "MOBILENO                      float64\n",
       "LOCATIONWISEID                  int64\n",
       "ISMACHINERESULT                object\n",
       "dtype: object"
      ]
     },
     "execution_count": 15,
     "metadata": {},
     "output_type": "execute_result"
    }
   ],
   "source": [
    "sample_stat.dtypes"
   ]
  },
  {
   "cell_type": "code",
   "execution_count": 16,
   "metadata": {},
   "outputs": [
    {
     "data": {
      "text/plain": [
       "0                      NaT\n",
       "1                      NaT\n",
       "2                      NaT\n",
       "3                      NaT\n",
       "4                      NaT\n",
       "               ...        \n",
       "1705   2081-03-04 11:21:44\n",
       "1706   2081-03-04 12:12:35\n",
       "1707   2081-03-04 11:50:31\n",
       "1708   2081-03-04 12:17:59\n",
       "1709   2081-03-04 09:20:28\n",
       "Name: VERIFIEDDATETIME, Length: 1710, dtype: datetime64[ns]"
      ]
     },
     "execution_count": 16,
     "metadata": {},
     "output_type": "execute_result"
    }
   ],
   "source": [
    "sample_stat['VERIFIEDDATETIME']"
   ]
  },
  {
   "cell_type": "code",
   "execution_count": 17,
   "metadata": {},
   "outputs": [],
   "source": [
    "sample_bl = sample.loc[sample['Testname'].str.contains(\"^BL\")]   #Select Sample Testname == Blood"
   ]
  },
  {
   "cell_type": "code",
   "execution_count": 18,
   "metadata": {},
   "outputs": [],
   "source": [
    "sample_bal = sample.loc[sample['Testname'].str.contains(\"^BRON\")]  #Select Sample Testname == Broncheolar Lavage"
   ]
  },
  {
   "cell_type": "code",
   "execution_count": 19,
   "metadata": {},
   "outputs": [],
   "source": [
    "sample_et = sample.loc[sample['Testname'].str.contains(\"^ENDOTRACHEA\")]  #Select Sample Testname == Endotracheal Aspirate"
   ]
  },
  {
   "cell_type": "code",
   "execution_count": 20,
   "metadata": {},
   "outputs": [
    {
     "data": {
      "text/plain": [
       "S.No               1\n",
       "patientid          1\n",
       "patientname        1\n",
       "SN                 1\n",
       "Testname           1\n",
       "RUNNO              1\n",
       "agesex             1\n",
       "modifytime         1\n",
       "Result             0\n",
       "PATIENTTYPE        1\n",
       "WARDNAME           1\n",
       "SAMPLETAKENTIME    1\n",
       "dtype: int64"
      ]
     },
     "execution_count": 20,
     "metadata": {},
     "output_type": "execute_result"
    }
   ],
   "source": [
    "sample_et.count()"
   ]
  },
  {
   "cell_type": "code",
   "execution_count": 21,
   "metadata": {},
   "outputs": [
    {
     "data": {
      "text/plain": [
       "(273, 36)"
      ]
     },
     "execution_count": 21,
     "metadata": {},
     "output_type": "execute_result"
    }
   ],
   "source": [
    "sample_stat=sample_stat.loc[sample_stat['VERIFIEDDATETIME'] > verified_date]\n",
    "sample_stat.shape"
   ]
  },
  {
   "cell_type": "code",
   "execution_count": 22,
   "metadata": {},
   "outputs": [
    {
     "data": {
      "text/plain": [
       "595    2081-03-04 08:37:00\n",
       "596    2081-03-04 08:38:28\n",
       "633    2081-03-04 08:57:08\n",
       "686    2081-03-04 08:33:13\n",
       "690    2081-03-04 08:33:30\n",
       "               ...        \n",
       "1705   2081-03-04 11:21:44\n",
       "1706   2081-03-04 12:12:35\n",
       "1707   2081-03-04 11:50:31\n",
       "1708   2081-03-04 12:17:59\n",
       "1709   2081-03-04 09:20:28\n",
       "Name: VERIFIEDDATETIME, Length: 273, dtype: datetime64[ns]"
      ]
     },
     "execution_count": 22,
     "metadata": {},
     "output_type": "execute_result"
    }
   ],
   "source": [
    "sample_stat['VERIFIEDDATETIME']"
   ]
  },
  {
   "cell_type": "code",
   "execution_count": 23,
   "metadata": {},
   "outputs": [
    {
     "data": {
      "text/plain": [
       "(31, 36)"
      ]
     },
     "execution_count": 23,
     "metadata": {},
     "output_type": "execute_result"
    }
   ],
   "source": [
    "sample_st_blood=sample_stat.loc[sample_stat['TESTNAME'].str.contains(\"^BL\")]\n",
    "sample_st_blood.shape"
   ]
  },
  {
   "cell_type": "code",
   "execution_count": 24,
   "metadata": {},
   "outputs": [
    {
     "data": {
      "text/plain": [
       "(0, 36)"
      ]
     },
     "execution_count": 24,
     "metadata": {},
     "output_type": "execute_result"
    }
   ],
   "source": [
    "sample_st_bal=sample_stat.loc[sample_stat['TESTNAME'].str.contains(\"^BRON\")]\n",
    "sample_st_bal.shape"
   ]
  },
  {
   "cell_type": "code",
   "execution_count": 25,
   "metadata": {},
   "outputs": [
    {
     "data": {
      "text/plain": [
       "(0, 36)"
      ]
     },
     "execution_count": 25,
     "metadata": {},
     "output_type": "execute_result"
    }
   ],
   "source": [
    "sample_st_et=sample_stat.loc[sample_stat['TESTNAME'].str.contains(\"^ENDOTRACHEA\")]\n",
    "sample_st_et.shape"
   ]
  },
  {
   "cell_type": "code",
   "execution_count": 26,
   "metadata": {},
   "outputs": [],
   "source": [
    "#sample_stat['Verified_Date']=pd.to_datetime(sample_stat['Verified_Date'], format='%Y-%m-%d')"
   ]
  },
  {
   "cell_type": "code",
   "execution_count": 27,
   "metadata": {},
   "outputs": [],
   "source": [
    "blood_today = blood.loc[~blood['Finding'].str.contains(\"Culture|CANDIDA|Coagulase\",na=True)]"
   ]
  },
  {
   "cell_type": "code",
   "execution_count": 28,
   "metadata": {},
   "outputs": [
    {
     "data": {
      "text/html": [
       "<div>\n",
       "<style scoped>\n",
       "    .dataframe tbody tr th:only-of-type {\n",
       "        vertical-align: middle;\n",
       "    }\n",
       "\n",
       "    .dataframe tbody tr th {\n",
       "        vertical-align: top;\n",
       "    }\n",
       "\n",
       "    .dataframe thead th {\n",
       "        text-align: right;\n",
       "    }\n",
       "</style>\n",
       "<table border=\"1\" class=\"dataframe\">\n",
       "  <thead>\n",
       "    <tr style=\"text-align: right;\">\n",
       "      <th></th>\n",
       "      <th>Name</th>\n",
       "      <th>Patientid</th>\n",
       "      <th>Age</th>\n",
       "      <th>Sex</th>\n",
       "      <th>Sampleno</th>\n",
       "      <th>SAMPLETAKENDATE</th>\n",
       "      <th>Finding</th>\n",
       "      <th>Sensitivity</th>\n",
       "      <th>Intermediate</th>\n",
       "      <th>Resistant</th>\n",
       "    </tr>\n",
       "  </thead>\n",
       "  <tbody>\n",
       "    <tr>\n",
       "      <th>0</th>\n",
       "      <td>DIL MAYA LIMBU</td>\n",
       "      <td>80230391</td>\n",
       "      <td>60 Y</td>\n",
       "      <td>FEMALE</td>\n",
       "      <td>2081-N76458</td>\n",
       "      <td>2081/02/29</td>\n",
       "      <td>BLOOD,Central line,Acinetobacter baumanii complex</td>\n",
       "      <td>COLISTIN</td>\n",
       "      <td>AMPICILLINSULBACTAM</td>\n",
       "      <td>AMIKACIN,CEFIXIME,CEFTAZIDIME,CEFTRIAXONE,CIPR...</td>\n",
       "    </tr>\n",
       "    <tr>\n",
       "      <th>1</th>\n",
       "      <td>DIL MAYA LIMBU</td>\n",
       "      <td>80230391</td>\n",
       "      <td>60 Y</td>\n",
       "      <td>FEMALE</td>\n",
       "      <td>2081-N76458</td>\n",
       "      <td>2081/02/29</td>\n",
       "      <td>BLOOD,Peripheral line,Acinetobacter baumanii c...</td>\n",
       "      <td>COLISTIN,POLYMYXIN-B</td>\n",
       "      <td>NaN</td>\n",
       "      <td>AMIKACIN,AMPICILLINSULBACTAM,CEFIXIME,CEFTAZID...</td>\n",
       "    </tr>\n",
       "    <tr>\n",
       "      <th>2</th>\n",
       "      <td>UMESH  SHRESTHA</td>\n",
       "      <td>80234026</td>\n",
       "      <td>35 Y</td>\n",
       "      <td>MALE</td>\n",
       "      <td>2081-N76664</td>\n",
       "      <td>2081/02/29</td>\n",
       "      <td>BLOOD,Contaminant grown on culture. Please sen...</td>\n",
       "      <td>NaN</td>\n",
       "      <td>NaN</td>\n",
       "      <td>NaN</td>\n",
       "    </tr>\n",
       "    <tr>\n",
       "      <th>5</th>\n",
       "      <td>MINA DEVI SHAH</td>\n",
       "      <td>79092149</td>\n",
       "      <td>40 Y</td>\n",
       "      <td>FEMALE</td>\n",
       "      <td>2081-N76829</td>\n",
       "      <td>2081/02/29</td>\n",
       "      <td>BLOOD,Contaminant grown on culture. Please sen...</td>\n",
       "      <td>NaN</td>\n",
       "      <td>NaN</td>\n",
       "      <td>NaN</td>\n",
       "    </tr>\n",
       "    <tr>\n",
       "      <th>22</th>\n",
       "      <td>JAGAT BAHADUR DEWAN</td>\n",
       "      <td>80235930</td>\n",
       "      <td>59 Y</td>\n",
       "      <td>MALE</td>\n",
       "      <td>2081-N77660</td>\n",
       "      <td>2081/02/29</td>\n",
       "      <td>BLOOD,Contaminant grown on culture. Please sen...</td>\n",
       "      <td>NaN</td>\n",
       "      <td>NaN</td>\n",
       "      <td>NaN</td>\n",
       "    </tr>\n",
       "    <tr>\n",
       "      <th>43</th>\n",
       "      <td>KAMALA YAKHA</td>\n",
       "      <td>80221698</td>\n",
       "      <td>42 Y</td>\n",
       "      <td>FEMALE</td>\n",
       "      <td>2081-N78869</td>\n",
       "      <td>2081/02/30</td>\n",
       "      <td>BLOOD,Escherichia coli</td>\n",
       "      <td>AMIKACIN,AMPICILLINSULBACTAM,CEFIXIME,CEFTAZID...</td>\n",
       "      <td>AMPICILLIN</td>\n",
       "      <td>NaN</td>\n",
       "    </tr>\n",
       "    <tr>\n",
       "      <th>58</th>\n",
       "      <td>UNIYES MUKHIYA</td>\n",
       "      <td>80124162</td>\n",
       "      <td>28 Y</td>\n",
       "      <td>FEMALE</td>\n",
       "      <td>2081-N80098</td>\n",
       "      <td>2081/02/31</td>\n",
       "      <td>BLOOD,Pseudomonas species</td>\n",
       "      <td>CIPROFLOXACIN,LEVOFLOXACIN,MEROPENEM</td>\n",
       "      <td>TOBRAMYCIN</td>\n",
       "      <td>AMIKACIN,AMPICILLINSULBACTAM,CARBENICILLIN,CEF...</td>\n",
       "    </tr>\n",
       "    <tr>\n",
       "      <th>67</th>\n",
       "      <td>DHAN KUMAR RAI</td>\n",
       "      <td>80058517</td>\n",
       "      <td>44 Y</td>\n",
       "      <td>MALE</td>\n",
       "      <td>2081-N80093</td>\n",
       "      <td>2081/02/31</td>\n",
       "      <td>BLOOD,Contaminant grown on culture. Please sen...</td>\n",
       "      <td>NaN</td>\n",
       "      <td>NaN</td>\n",
       "      <td>NaN</td>\n",
       "    </tr>\n",
       "    <tr>\n",
       "      <th>107</th>\n",
       "      <td>HEM NARAYAN MAJHI THARU</td>\n",
       "      <td>80174260</td>\n",
       "      <td>59 Y</td>\n",
       "      <td>MALE</td>\n",
       "      <td>2081-N82138</td>\n",
       "      <td>2081-03-01 00:00:00</td>\n",
       "      <td>BLOOD,Klebsiella pneumoniae</td>\n",
       "      <td>AMIKACIN,AMPICILLINSULBACTAM,CEFTAZIDIME,CIPRO...</td>\n",
       "      <td>CEFTRIAXONE</td>\n",
       "      <td>CEFIXIME</td>\n",
       "    </tr>\n",
       "    <tr>\n",
       "      <th>182</th>\n",
       "      <td>MINA DEVI SHAH</td>\n",
       "      <td>79092149</td>\n",
       "      <td>40 Y</td>\n",
       "      <td>FEMALE</td>\n",
       "      <td>2081-N76792</td>\n",
       "      <td>2081/02/29</td>\n",
       "      <td>BLOOD,Contaminant grown on culture. Please sen...</td>\n",
       "      <td>NaN</td>\n",
       "      <td>NaN</td>\n",
       "      <td>NaN</td>\n",
       "    </tr>\n",
       "  </tbody>\n",
       "</table>\n",
       "</div>"
      ],
      "text/plain": [
       "                        Name  Patientid   Age     Sex     Sampleno  \\\n",
       "0             DIL MAYA LIMBU   80230391  60 Y  FEMALE  2081-N76458   \n",
       "1             DIL MAYA LIMBU   80230391  60 Y  FEMALE  2081-N76458   \n",
       "2            UMESH  SHRESTHA   80234026  35 Y    MALE  2081-N76664   \n",
       "5             MINA DEVI SHAH   79092149  40 Y  FEMALE  2081-N76829   \n",
       "22       JAGAT BAHADUR DEWAN   80235930  59 Y    MALE  2081-N77660   \n",
       "43              KAMALA YAKHA   80221698  42 Y  FEMALE  2081-N78869   \n",
       "58            UNIYES MUKHIYA   80124162  28 Y  FEMALE  2081-N80098   \n",
       "67            DHAN KUMAR RAI   80058517  44 Y    MALE  2081-N80093   \n",
       "107  HEM NARAYAN MAJHI THARU   80174260  59 Y    MALE  2081-N82138   \n",
       "182           MINA DEVI SHAH   79092149  40 Y  FEMALE  2081-N76792   \n",
       "\n",
       "         SAMPLETAKENDATE                                            Finding  \\\n",
       "0             2081/02/29  BLOOD,Central line,Acinetobacter baumanii complex   \n",
       "1             2081/02/29  BLOOD,Peripheral line,Acinetobacter baumanii c...   \n",
       "2             2081/02/29  BLOOD,Contaminant grown on culture. Please sen...   \n",
       "5             2081/02/29  BLOOD,Contaminant grown on culture. Please sen...   \n",
       "22            2081/02/29  BLOOD,Contaminant grown on culture. Please sen...   \n",
       "43            2081/02/30                             BLOOD,Escherichia coli   \n",
       "58            2081/02/31                          BLOOD,Pseudomonas species   \n",
       "67            2081/02/31  BLOOD,Contaminant grown on culture. Please sen...   \n",
       "107  2081-03-01 00:00:00                        BLOOD,Klebsiella pneumoniae   \n",
       "182           2081/02/29  BLOOD,Contaminant grown on culture. Please sen...   \n",
       "\n",
       "                                           Sensitivity         Intermediate  \\\n",
       "0                                             COLISTIN  AMPICILLINSULBACTAM   \n",
       "1                                 COLISTIN,POLYMYXIN-B                  NaN   \n",
       "2                                                  NaN                  NaN   \n",
       "5                                                  NaN                  NaN   \n",
       "22                                                 NaN                  NaN   \n",
       "43   AMIKACIN,AMPICILLINSULBACTAM,CEFIXIME,CEFTAZID...           AMPICILLIN   \n",
       "58                CIPROFLOXACIN,LEVOFLOXACIN,MEROPENEM           TOBRAMYCIN   \n",
       "67                                                 NaN                  NaN   \n",
       "107  AMIKACIN,AMPICILLINSULBACTAM,CEFTAZIDIME,CIPRO...          CEFTRIAXONE   \n",
       "182                                                NaN                  NaN   \n",
       "\n",
       "                                             Resistant  \n",
       "0    AMIKACIN,CEFIXIME,CEFTAZIDIME,CEFTRIAXONE,CIPR...  \n",
       "1    AMIKACIN,AMPICILLINSULBACTAM,CEFIXIME,CEFTAZID...  \n",
       "2                                                  NaN  \n",
       "5                                                  NaN  \n",
       "22                                                 NaN  \n",
       "43                                                 NaN  \n",
       "58   AMIKACIN,AMPICILLINSULBACTAM,CARBENICILLIN,CEF...  \n",
       "67                                                 NaN  \n",
       "107                                           CEFIXIME  \n",
       "182                                                NaN  "
      ]
     },
     "execution_count": 28,
     "metadata": {},
     "output_type": "execute_result"
    }
   ],
   "source": [
    "blood_today1=blood_today[['Name', 'Patientid', 'Age', 'Sex', 'Sampleno',\n",
    "       'SAMPLETAKENDATE', 'Finding', 'Sensitivity', 'Intermediate',\n",
    "       'Resistant']]\n",
    "blood_today1"
   ]
  },
  {
   "cell_type": "code",
   "execution_count": 29,
   "metadata": {},
   "outputs": [],
   "source": [
    "#pt_ID = 80029281\n",
    "#sample_bl[sample_bl['Patientid'] == pt_ID ]\n"
   ]
  },
  {
   "cell_type": "code",
   "execution_count": 30,
   "metadata": {},
   "outputs": [],
   "source": [
    "#sample[sample['patientid'] == pt_ID]"
   ]
  },
  {
   "cell_type": "code",
   "execution_count": 31,
   "metadata": {},
   "outputs": [
    {
     "name": "stderr",
     "output_type": "stream",
     "text": [
      "C:\\Users\\Dell\\AppData\\Local\\Temp\\ipykernel_14584\\1371808549.py:1: SettingWithCopyWarning: \n",
      "A value is trying to be set on a copy of a slice from a DataFrame\n",
      "\n",
      "See the caveats in the documentation: https://pandas.pydata.org/pandas-docs/stable/user_guide/indexing.html#returning-a-view-versus-a-copy\n",
      "  sample_bl.rename(columns = {'patientid' : 'Patientid'}, inplace = True)\n",
      "C:\\Users\\Dell\\AppData\\Local\\Temp\\ipykernel_14584\\1371808549.py:2: SettingWithCopyWarning: \n",
      "A value is trying to be set on a copy of a slice from a DataFrame\n",
      "\n",
      "See the caveats in the documentation: https://pandas.pydata.org/pandas-docs/stable/user_guide/indexing.html#returning-a-view-versus-a-copy\n",
      "  sample_bl.rename(columns = {'agesex' : 'AGESEX'}, inplace = True)\n"
     ]
    },
    {
     "data": {
      "text/plain": [
       "Index(['S.No', 'Patientid', 'patientname', 'SN', 'Testname', 'RUNNO', 'AGESEX',\n",
       "       'modifytime', 'Result', 'PATIENTTYPE', 'WARDNAME', 'SAMPLETAKENTIME'],\n",
       "      dtype='object')"
      ]
     },
     "execution_count": 31,
     "metadata": {},
     "output_type": "execute_result"
    }
   ],
   "source": [
    "sample_bl.rename(columns = {'patientid' : 'Patientid'}, inplace = True)\n",
    "sample_bl.rename(columns = {'agesex' : 'AGESEX'}, inplace = True)\n",
    "\n",
    "sample_bl.columns"
   ]
  },
  {
   "cell_type": "code",
   "execution_count": 32,
   "metadata": {},
   "outputs": [
    {
     "data": {
      "text/html": [
       "<div>\n",
       "<style scoped>\n",
       "    .dataframe tbody tr th:only-of-type {\n",
       "        vertical-align: middle;\n",
       "    }\n",
       "\n",
       "    .dataframe tbody tr th {\n",
       "        vertical-align: top;\n",
       "    }\n",
       "\n",
       "    .dataframe thead th {\n",
       "        text-align: right;\n",
       "    }\n",
       "</style>\n",
       "<table border=\"1\" class=\"dataframe\">\n",
       "  <thead>\n",
       "    <tr style=\"text-align: right;\">\n",
       "      <th></th>\n",
       "      <th>Patientid</th>\n",
       "      <th>patientname</th>\n",
       "      <th>AGESEX</th>\n",
       "      <th>RUNNO</th>\n",
       "      <th>WARDNAME</th>\n",
       "    </tr>\n",
       "  </thead>\n",
       "  <tbody>\n",
       "    <tr>\n",
       "      <th>0</th>\n",
       "      <td>80238155.0</td>\n",
       "      <td>BIPIN    CHADHARY</td>\n",
       "      <td>30/M</td>\n",
       "      <td>CS80/81-1158931</td>\n",
       "      <td>MEDICINE I</td>\n",
       "    </tr>\n",
       "    <tr>\n",
       "      <th>4</th>\n",
       "      <td>80237056.0</td>\n",
       "      <td>AAKASH  KUMAR  MAHATO</td>\n",
       "      <td>3/M</td>\n",
       "      <td>CS80/81-1144774</td>\n",
       "      <td>PAEDIA WARD I</td>\n",
       "    </tr>\n",
       "    <tr>\n",
       "      <th>23</th>\n",
       "      <td>80235505.0</td>\n",
       "      <td>AAYANSHU  ADHIKARI</td>\n",
       "      <td>19/F</td>\n",
       "      <td>CS80/81-1145472</td>\n",
       "      <td>PAEDIA WARD I</td>\n",
       "    </tr>\n",
       "    <tr>\n",
       "      <th>25</th>\n",
       "      <td>80235726.0</td>\n",
       "      <td>AAYESH  RAI</td>\n",
       "      <td>9/M</td>\n",
       "      <td>CS80/81-1139987</td>\n",
       "      <td>PAEDIA WARD II</td>\n",
       "    </tr>\n",
       "    <tr>\n",
       "      <th>28</th>\n",
       "      <td>80235073.0</td>\n",
       "      <td>AAYUSHA  MAGAR</td>\n",
       "      <td>15/F</td>\n",
       "      <td>CS80/81-1134160</td>\n",
       "      <td>PAEDIA WARD II</td>\n",
       "    </tr>\n",
       "    <tr>\n",
       "      <th>...</th>\n",
       "      <td>...</td>\n",
       "      <td>...</td>\n",
       "      <td>...</td>\n",
       "      <td>...</td>\n",
       "      <td>...</td>\n",
       "    </tr>\n",
       "    <tr>\n",
       "      <th>894</th>\n",
       "      <td>3030123.0</td>\n",
       "      <td>URMILA  DAHAL</td>\n",
       "      <td>50/F</td>\n",
       "      <td>TP80/81-0045987</td>\n",
       "      <td>SICU</td>\n",
       "    </tr>\n",
       "    <tr>\n",
       "      <th>895</th>\n",
       "      <td>3030123.0</td>\n",
       "      <td>URMILA  DAHAL</td>\n",
       "      <td>50/F</td>\n",
       "      <td>TP80/81-0045987</td>\n",
       "      <td>SICU</td>\n",
       "    </tr>\n",
       "    <tr>\n",
       "      <th>899</th>\n",
       "      <td>80239147.0</td>\n",
       "      <td>VIJAY   LAMA</td>\n",
       "      <td>55/M</td>\n",
       "      <td>CS80/81-1155381</td>\n",
       "      <td>SURGERY I</td>\n",
       "    </tr>\n",
       "    <tr>\n",
       "      <th>900</th>\n",
       "      <td>80239147.0</td>\n",
       "      <td>VIJAY   LAMA</td>\n",
       "      <td>55/M</td>\n",
       "      <td>CS80/81-1155381</td>\n",
       "      <td>SURGERY I</td>\n",
       "    </tr>\n",
       "    <tr>\n",
       "      <th>908</th>\n",
       "      <td>80237054.0</td>\n",
       "      <td>YUNCHHO  HANG LIMBU</td>\n",
       "      <td>4/M</td>\n",
       "      <td>CS80/81-1145573</td>\n",
       "      <td>PAEDIA WARD II</td>\n",
       "    </tr>\n",
       "  </tbody>\n",
       "</table>\n",
       "<p>144 rows × 5 columns</p>\n",
       "</div>"
      ],
      "text/plain": [
       "      Patientid            patientname AGESEX            RUNNO        WARDNAME\n",
       "0    80238155.0      BIPIN    CHADHARY   30/M  CS80/81-1158931      MEDICINE I\n",
       "4    80237056.0  AAKASH  KUMAR  MAHATO    3/M  CS80/81-1144774   PAEDIA WARD I\n",
       "23   80235505.0     AAYANSHU  ADHIKARI   19/F  CS80/81-1145472   PAEDIA WARD I\n",
       "25   80235726.0            AAYESH  RAI    9/M  CS80/81-1139987  PAEDIA WARD II\n",
       "28   80235073.0         AAYUSHA  MAGAR   15/F  CS80/81-1134160  PAEDIA WARD II\n",
       "..          ...                    ...    ...              ...             ...\n",
       "894   3030123.0          URMILA  DAHAL   50/F  TP80/81-0045987            SICU\n",
       "895   3030123.0          URMILA  DAHAL   50/F  TP80/81-0045987            SICU\n",
       "899  80239147.0           VIJAY   LAMA   55/M  CS80/81-1155381       SURGERY I\n",
       "900  80239147.0           VIJAY   LAMA   55/M  CS80/81-1155381       SURGERY I\n",
       "908  80237054.0    YUNCHHO  HANG LIMBU    4/M  CS80/81-1145573  PAEDIA WARD II\n",
       "\n",
       "[144 rows x 5 columns]"
      ]
     },
     "execution_count": 32,
     "metadata": {},
     "output_type": "execute_result"
    }
   ],
   "source": [
    "sample_bl1 = sample_bl[['Patientid', 'patientname', 'AGESEX','RUNNO', 'WARDNAME']]\n",
    "sample_bl1"
   ]
  },
  {
   "cell_type": "code",
   "execution_count": 33,
   "metadata": {},
   "outputs": [
    {
     "name": "stderr",
     "output_type": "stream",
     "text": [
      "C:\\Users\\Dell\\AppData\\Local\\Temp\\ipykernel_14584\\1748539044.py:1: SettingWithCopyWarning: \n",
      "A value is trying to be set on a copy of a slice from a DataFrame\n",
      "\n",
      "See the caveats in the documentation: https://pandas.pydata.org/pandas-docs/stable/user_guide/indexing.html#returning-a-view-versus-a-copy\n",
      "  sample_bl1.rename(columns = {'RUNNO' : 'BILLNO'}, inplace = True)\n"
     ]
    }
   ],
   "source": [
    "sample_bl1.rename(columns = {'RUNNO' : 'BILLNO'}, inplace = True)"
   ]
  },
  {
   "cell_type": "code",
   "execution_count": 34,
   "metadata": {},
   "outputs": [
    {
     "data": {
      "text/html": [
       "<div>\n",
       "<style scoped>\n",
       "    .dataframe tbody tr th:only-of-type {\n",
       "        vertical-align: middle;\n",
       "    }\n",
       "\n",
       "    .dataframe tbody tr th {\n",
       "        vertical-align: top;\n",
       "    }\n",
       "\n",
       "    .dataframe thead th {\n",
       "        text-align: right;\n",
       "    }\n",
       "</style>\n",
       "<table border=\"1\" class=\"dataframe\">\n",
       "  <thead>\n",
       "    <tr style=\"text-align: right;\">\n",
       "      <th></th>\n",
       "      <th>PATIENTID</th>\n",
       "      <th>AGESEX</th>\n",
       "      <th>BILLNO</th>\n",
       "      <th>VERIFIEDBY</th>\n",
       "      <th>VERIFIEDDATETIME</th>\n",
       "      <th>TITLE</th>\n",
       "      <th>PATIENTNAME</th>\n",
       "      <th>SAMPLENO</th>\n",
       "      <th>TESTNAME</th>\n",
       "      <th>TESTNAMECODE</th>\n",
       "      <th>LABNO</th>\n",
       "      <th>PATIENTTYPE</th>\n",
       "    </tr>\n",
       "  </thead>\n",
       "  <tbody>\n",
       "    <tr>\n",
       "      <th>595</th>\n",
       "      <td>81001372</td>\n",
       "      <td>1 /MALE</td>\n",
       "      <td>CS80/81-1146505</td>\n",
       "      <td>RK</td>\n",
       "      <td>2081-03-04 08:37:00</td>\n",
       "      <td>B/O</td>\n",
       "      <td>B/O BEBISA LIMBU</td>\n",
       "      <td>2081-N80583</td>\n",
       "      <td>BLOOD  C/S</td>\n",
       "      <td>MIC051</td>\n",
       "      <td>80583</td>\n",
       "      <td>IPD / 7</td>\n",
       "    </tr>\n",
       "    <tr>\n",
       "      <th>596</th>\n",
       "      <td>81001370</td>\n",
       "      <td>1 /MALE</td>\n",
       "      <td>CS80/81-1146507</td>\n",
       "      <td>RK</td>\n",
       "      <td>2081-03-04 08:38:28</td>\n",
       "      <td>B/O</td>\n",
       "      <td>B/O TARA RAI</td>\n",
       "      <td>2081-N80587</td>\n",
       "      <td>BLOOD  C/S</td>\n",
       "      <td>MIC051</td>\n",
       "      <td>80587</td>\n",
       "      <td>IPD / 3</td>\n",
       "    </tr>\n",
       "    <tr>\n",
       "      <th>633</th>\n",
       "      <td>80124162</td>\n",
       "      <td>28 /FEMALE</td>\n",
       "      <td>CR80/81-1148848</td>\n",
       "      <td>RK</td>\n",
       "      <td>2081-03-04 08:57:08</td>\n",
       "      <td>Ms.</td>\n",
       "      <td>UNIYES MUKHIYA</td>\n",
       "      <td>2081-N80098</td>\n",
       "      <td>BLOOD  C/S</td>\n",
       "      <td>MIC051</td>\n",
       "      <td>80098</td>\n",
       "      <td>IPD / 10</td>\n",
       "    </tr>\n",
       "    <tr>\n",
       "      <th>686</th>\n",
       "      <td>79252254</td>\n",
       "      <td>2 /MALE</td>\n",
       "      <td>CR80/81-1146388</td>\n",
       "      <td>RK</td>\n",
       "      <td>2081-03-04 08:33:13</td>\n",
       "      <td>Mr.</td>\n",
       "      <td>DIPAK BUDHATHOKI</td>\n",
       "      <td>2081-N80473</td>\n",
       "      <td>BLOOD  C/S</td>\n",
       "      <td>MIC051</td>\n",
       "      <td>80473</td>\n",
       "      <td>IPD / 31</td>\n",
       "    </tr>\n",
       "    <tr>\n",
       "      <th>690</th>\n",
       "      <td>80237633</td>\n",
       "      <td>3 /FEMALE</td>\n",
       "      <td>CR80/81-1146444</td>\n",
       "      <td>RK</td>\n",
       "      <td>2081-03-04 08:33:30</td>\n",
       "      <td>B/O</td>\n",
       "      <td>B/O KOPILA MAGAR</td>\n",
       "      <td>2081-N80513</td>\n",
       "      <td>BLOOD  C/S</td>\n",
       "      <td>MIC051</td>\n",
       "      <td>80513</td>\n",
       "      <td>EMR</td>\n",
       "    </tr>\n",
       "  </tbody>\n",
       "</table>\n",
       "</div>"
      ],
      "text/plain": [
       "     PATIENTID      AGESEX           BILLNO VERIFIEDBY    VERIFIEDDATETIME  \\\n",
       "595   81001372     1 /MALE  CS80/81-1146505         RK 2081-03-04 08:37:00   \n",
       "596   81001370     1 /MALE  CS80/81-1146507         RK 2081-03-04 08:38:28   \n",
       "633   80124162  28 /FEMALE  CR80/81-1148848         RK 2081-03-04 08:57:08   \n",
       "686   79252254     2 /MALE  CR80/81-1146388         RK 2081-03-04 08:33:13   \n",
       "690   80237633   3 /FEMALE  CR80/81-1146444         RK 2081-03-04 08:33:30   \n",
       "\n",
       "    TITLE       PATIENTNAME     SAMPLENO    TESTNAME TESTNAMECODE  LABNO  \\\n",
       "595   B/O  B/O BEBISA LIMBU  2081-N80583  BLOOD  C/S       MIC051  80583   \n",
       "596   B/O      B/O TARA RAI  2081-N80587  BLOOD  C/S       MIC051  80587   \n",
       "633   Ms.    UNIYES MUKHIYA  2081-N80098  BLOOD  C/S       MIC051  80098   \n",
       "686   Mr.  DIPAK BUDHATHOKI  2081-N80473  BLOOD  C/S       MIC051  80473   \n",
       "690   B/O  B/O KOPILA MAGAR  2081-N80513  BLOOD  C/S       MIC051  80513   \n",
       "\n",
       "    PATIENTTYPE  \n",
       "595     IPD / 7  \n",
       "596     IPD / 3  \n",
       "633    IPD / 10  \n",
       "686    IPD / 31  \n",
       "690         EMR  "
      ]
     },
     "execution_count": 34,
     "metadata": {},
     "output_type": "execute_result"
    }
   ],
   "source": [
    "sample_st_blood1=sample_st_blood[['PATIENTID', 'AGESEX',\n",
    "       'BILLNO', 'VERIFIEDBY',\n",
    "       'VERIFIEDDATETIME', 'TITLE', 'PATIENTNAME', 'SAMPLENO',\n",
    "      'TESTNAME', 'TESTNAMECODE', 'LABNO',\n",
    "        'PATIENTTYPE']]\n",
    "sample_st_blood1.head(5)"
   ]
  },
  {
   "cell_type": "code",
   "execution_count": 35,
   "metadata": {},
   "outputs": [],
   "source": [
    "sample_combined_bl=sample_bl1.merge(sample_st_blood1,how='inner',on='BILLNO')"
   ]
  },
  {
   "cell_type": "code",
   "execution_count": 36,
   "metadata": {},
   "outputs": [
    {
     "data": {
      "text/plain": [
       "Index(['Patientid', 'patientname', 'AGESEX_x', 'BILLNO', 'WARDNAME',\n",
       "       'PATIENTID', 'AGESEX_y', 'VERIFIEDBY', 'VERIFIEDDATETIME', 'TITLE',\n",
       "       'PATIENTNAME', 'SAMPLENO', 'TESTNAME', 'TESTNAMECODE', 'LABNO',\n",
       "       'PATIENTTYPE'],\n",
       "      dtype='object')"
      ]
     },
     "execution_count": 36,
     "metadata": {},
     "output_type": "execute_result"
    }
   ],
   "source": [
    "sample_combined_bl.columns"
   ]
  },
  {
   "cell_type": "code",
   "execution_count": 37,
   "metadata": {},
   "outputs": [
    {
     "data": {
      "text/plain": [
       "25"
      ]
     },
     "execution_count": 37,
     "metadata": {},
     "output_type": "execute_result"
    }
   ],
   "source": [
    "len(sample_combined_bl.index)"
   ]
  },
  {
   "cell_type": "code",
   "execution_count": 38,
   "metadata": {},
   "outputs": [
    {
     "data": {
      "text/html": [
       "<div>\n",
       "<style scoped>\n",
       "    .dataframe tbody tr th:only-of-type {\n",
       "        vertical-align: middle;\n",
       "    }\n",
       "\n",
       "    .dataframe tbody tr th {\n",
       "        vertical-align: top;\n",
       "    }\n",
       "\n",
       "    .dataframe thead th {\n",
       "        text-align: right;\n",
       "    }\n",
       "</style>\n",
       "<table border=\"1\" class=\"dataframe\">\n",
       "  <thead>\n",
       "    <tr style=\"text-align: right;\">\n",
       "      <th></th>\n",
       "      <th>Patientid</th>\n",
       "      <th>patientname</th>\n",
       "      <th>AGESEX_x</th>\n",
       "      <th>BILLNO</th>\n",
       "      <th>WARDNAME</th>\n",
       "      <th>PATIENTID</th>\n",
       "      <th>AGESEX_y</th>\n",
       "      <th>VERIFIEDBY</th>\n",
       "      <th>VERIFIEDDATETIME</th>\n",
       "      <th>TITLE</th>\n",
       "      <th>PATIENTNAME</th>\n",
       "      <th>SAMPLENO</th>\n",
       "      <th>TESTNAME</th>\n",
       "      <th>TESTNAMECODE</th>\n",
       "      <th>LABNO</th>\n",
       "      <th>PATIENTTYPE</th>\n",
       "    </tr>\n",
       "  </thead>\n",
       "  <tbody>\n",
       "    <tr>\n",
       "      <th>0</th>\n",
       "      <td>80236711.0</td>\n",
       "      <td>ABDUL  REHMAN</td>\n",
       "      <td>46/M</td>\n",
       "      <td>CS80/81-1149635</td>\n",
       "      <td>ICU-1 (ANAESTHESIOLOGY &amp; CRITICAL CARE)</td>\n",
       "      <td>80236711</td>\n",
       "      <td>46 /MALE</td>\n",
       "      <td>RK</td>\n",
       "      <td>2081-03-04 08:48:15</td>\n",
       "      <td>Mr.</td>\n",
       "      <td>ABDUL REHMAN</td>\n",
       "      <td>2081-N81788</td>\n",
       "      <td>BLOOD  C/S</td>\n",
       "      <td>MIC051</td>\n",
       "      <td>81788</td>\n",
       "      <td>IPD / 7</td>\n",
       "    </tr>\n",
       "    <tr>\n",
       "      <th>1</th>\n",
       "      <td>80236757.0</td>\n",
       "      <td>ANUSHA  RAI</td>\n",
       "      <td>9/F</td>\n",
       "      <td>CS80/81-1149211</td>\n",
       "      <td>PAEDIA WARD II</td>\n",
       "      <td>80236757</td>\n",
       "      <td>9 /FEMALE</td>\n",
       "      <td>RK</td>\n",
       "      <td>2081-03-04 08:43:26</td>\n",
       "      <td>Ms.</td>\n",
       "      <td>ANUSHA RAI</td>\n",
       "      <td>2081-N81505</td>\n",
       "      <td>BLOOD  C/S</td>\n",
       "      <td>MIC051</td>\n",
       "      <td>81505</td>\n",
       "      <td>IPD / 30</td>\n",
       "    </tr>\n",
       "    <tr>\n",
       "      <th>2</th>\n",
       "      <td>80236757.0</td>\n",
       "      <td>ANUSHA  RAI</td>\n",
       "      <td>9/F</td>\n",
       "      <td>CS80/81-1149211</td>\n",
       "      <td>PAEDIA WARD II</td>\n",
       "      <td>80236757</td>\n",
       "      <td>9 /FEMALE</td>\n",
       "      <td>RK</td>\n",
       "      <td>2081-03-04 08:43:08</td>\n",
       "      <td>Ms.</td>\n",
       "      <td>ANUSHA RAI</td>\n",
       "      <td>2081-N81464</td>\n",
       "      <td>BLOOD  C/S</td>\n",
       "      <td>MIC051</td>\n",
       "      <td>81464</td>\n",
       "      <td>IPD / 30</td>\n",
       "    </tr>\n",
       "    <tr>\n",
       "      <th>5</th>\n",
       "      <td>80232578.0</td>\n",
       "      <td>AROSHI KUMARI  SAH</td>\n",
       "      <td>6/F</td>\n",
       "      <td>CS80/81-1147125</td>\n",
       "      <td>PAEDIA WARD I</td>\n",
       "      <td>80232578</td>\n",
       "      <td>6 /FEMALE</td>\n",
       "      <td>RK</td>\n",
       "      <td>2081-03-04 08:40:53</td>\n",
       "      <td>Ms.</td>\n",
       "      <td>AROSHI KUMARI SAH</td>\n",
       "      <td>2081-N81044</td>\n",
       "      <td>BLOOD  C/S</td>\n",
       "      <td>MIC051</td>\n",
       "      <td>81044</td>\n",
       "      <td>IPD / 15</td>\n",
       "    </tr>\n",
       "    <tr>\n",
       "      <th>6</th>\n",
       "      <td>81001372.0</td>\n",
       "      <td>B/O BEBISA  LIMBU</td>\n",
       "      <td>1/M</td>\n",
       "      <td>CS80/81-1146505</td>\n",
       "      <td>NURSARY WARD</td>\n",
       "      <td>81001372</td>\n",
       "      <td>1 /MALE</td>\n",
       "      <td>RK</td>\n",
       "      <td>2081-03-04 08:37:00</td>\n",
       "      <td>B/O</td>\n",
       "      <td>B/O BEBISA LIMBU</td>\n",
       "      <td>2081-N80583</td>\n",
       "      <td>BLOOD  C/S</td>\n",
       "      <td>MIC051</td>\n",
       "      <td>80583</td>\n",
       "      <td>IPD / 7</td>\n",
       "    </tr>\n",
       "  </tbody>\n",
       "</table>\n",
       "</div>"
      ],
      "text/plain": [
       "    Patientid         patientname AGESEX_x           BILLNO  \\\n",
       "0  80236711.0       ABDUL  REHMAN     46/M  CS80/81-1149635   \n",
       "1  80236757.0         ANUSHA  RAI      9/F  CS80/81-1149211   \n",
       "2  80236757.0         ANUSHA  RAI      9/F  CS80/81-1149211   \n",
       "5  80232578.0  AROSHI KUMARI  SAH      6/F  CS80/81-1147125   \n",
       "6  81001372.0   B/O BEBISA  LIMBU      1/M  CS80/81-1146505   \n",
       "\n",
       "                                  WARDNAME  PATIENTID   AGESEX_y VERIFIEDBY  \\\n",
       "0  ICU-1 (ANAESTHESIOLOGY & CRITICAL CARE)   80236711   46 /MALE         RK   \n",
       "1                           PAEDIA WARD II   80236757  9 /FEMALE         RK   \n",
       "2                           PAEDIA WARD II   80236757  9 /FEMALE         RK   \n",
       "5                            PAEDIA WARD I   80232578  6 /FEMALE         RK   \n",
       "6                             NURSARY WARD   81001372    1 /MALE         RK   \n",
       "\n",
       "     VERIFIEDDATETIME TITLE        PATIENTNAME     SAMPLENO    TESTNAME  \\\n",
       "0 2081-03-04 08:48:15   Mr.       ABDUL REHMAN  2081-N81788  BLOOD  C/S   \n",
       "1 2081-03-04 08:43:26   Ms.         ANUSHA RAI  2081-N81505  BLOOD  C/S   \n",
       "2 2081-03-04 08:43:08   Ms.         ANUSHA RAI  2081-N81464  BLOOD  C/S   \n",
       "5 2081-03-04 08:40:53   Ms.  AROSHI KUMARI SAH  2081-N81044  BLOOD  C/S   \n",
       "6 2081-03-04 08:37:00   B/O   B/O BEBISA LIMBU  2081-N80583  BLOOD  C/S   \n",
       "\n",
       "  TESTNAMECODE  LABNO PATIENTTYPE  \n",
       "0       MIC051  81788     IPD / 7  \n",
       "1       MIC051  81505    IPD / 30  \n",
       "2       MIC051  81464    IPD / 30  \n",
       "5       MIC051  81044    IPD / 15  \n",
       "6       MIC051  80583     IPD / 7  "
      ]
     },
     "execution_count": 38,
     "metadata": {},
     "output_type": "execute_result"
    }
   ],
   "source": [
    "sample_combined_bl.drop_duplicates().head(5)"
   ]
  },
  {
   "cell_type": "code",
   "execution_count": 39,
   "metadata": {},
   "outputs": [
    {
     "data": {
      "text/plain": [
       "Index(['Patientid', 'patientname', 'AGESEX_x', 'BILLNO', 'WARDNAME',\n",
       "       'PATIENTID', 'AGESEX_y', 'VERIFIEDBY', 'VERIFIEDDATETIME', 'TITLE',\n",
       "       'PATIENTNAME', 'SAMPLENO', 'TESTNAME', 'TESTNAMECODE', 'LABNO',\n",
       "       'PATIENTTYPE'],\n",
       "      dtype='object')"
      ]
     },
     "execution_count": 39,
     "metadata": {},
     "output_type": "execute_result"
    }
   ],
   "source": [
    "sample_combined_bl.columns"
   ]
  },
  {
   "cell_type": "code",
   "execution_count": 40,
   "metadata": {},
   "outputs": [],
   "source": [
    "blood_HAI=blood_today1.merge(sample_combined_bl,how='inner',on='Patientid')"
   ]
  },
  {
   "cell_type": "code",
   "execution_count": 41,
   "metadata": {},
   "outputs": [],
   "source": [
    "blood_HAI = blood_HAI[['VERIFIEDDATETIME','Name',  'Age', 'Sex','Patientid', 'Sampleno','WARDNAME', 'SAMPLETAKENDATE','TESTNAME',\n",
    "       'Finding', 'Sensitivity', 'Intermediate', 'Resistant',\n",
    "       'BILLNO' ]]"
   ]
  },
  {
   "cell_type": "code",
   "execution_count": 42,
   "metadata": {},
   "outputs": [
    {
     "data": {
      "text/html": [
       "<div>\n",
       "<style scoped>\n",
       "    .dataframe tbody tr th:only-of-type {\n",
       "        vertical-align: middle;\n",
       "    }\n",
       "\n",
       "    .dataframe tbody tr th {\n",
       "        vertical-align: top;\n",
       "    }\n",
       "\n",
       "    .dataframe thead th {\n",
       "        text-align: right;\n",
       "    }\n",
       "</style>\n",
       "<table border=\"1\" class=\"dataframe\">\n",
       "  <thead>\n",
       "    <tr style=\"text-align: right;\">\n",
       "      <th></th>\n",
       "      <th>VERIFIEDDATETIME</th>\n",
       "      <th>Name</th>\n",
       "      <th>Age</th>\n",
       "      <th>Sex</th>\n",
       "      <th>Patientid</th>\n",
       "      <th>Sampleno</th>\n",
       "      <th>WARDNAME</th>\n",
       "      <th>SAMPLETAKENDATE</th>\n",
       "      <th>TESTNAME</th>\n",
       "      <th>Finding</th>\n",
       "      <th>Sensitivity</th>\n",
       "      <th>Intermediate</th>\n",
       "      <th>Resistant</th>\n",
       "      <th>BILLNO</th>\n",
       "    </tr>\n",
       "  </thead>\n",
       "  <tbody>\n",
       "    <tr>\n",
       "      <th>0</th>\n",
       "      <td>2081-03-04 08:57:08</td>\n",
       "      <td>UNIYES MUKHIYA</td>\n",
       "      <td>28 Y</td>\n",
       "      <td>FEMALE</td>\n",
       "      <td>80124162</td>\n",
       "      <td>2081-N80098</td>\n",
       "      <td>GYNAE WARD</td>\n",
       "      <td>2081/02/31</td>\n",
       "      <td>BLOOD  C/S</td>\n",
       "      <td>BLOOD,Pseudomonas species</td>\n",
       "      <td>CIPROFLOXACIN,LEVOFLOXACIN,MEROPENEM</td>\n",
       "      <td>TOBRAMYCIN</td>\n",
       "      <td>AMIKACIN,AMPICILLINSULBACTAM,CARBENICILLIN,CEF...</td>\n",
       "      <td>CR80/81-1148848</td>\n",
       "    </tr>\n",
       "  </tbody>\n",
       "</table>\n",
       "</div>"
      ],
      "text/plain": [
       "     VERIFIEDDATETIME            Name   Age     Sex  Patientid     Sampleno  \\\n",
       "0 2081-03-04 08:57:08  UNIYES MUKHIYA  28 Y  FEMALE   80124162  2081-N80098   \n",
       "\n",
       "     WARDNAME SAMPLETAKENDATE    TESTNAME                    Finding  \\\n",
       "0  GYNAE WARD      2081/02/31  BLOOD  C/S  BLOOD,Pseudomonas species   \n",
       "\n",
       "                            Sensitivity Intermediate  \\\n",
       "0  CIPROFLOXACIN,LEVOFLOXACIN,MEROPENEM   TOBRAMYCIN   \n",
       "\n",
       "                                           Resistant           BILLNO  \n",
       "0  AMIKACIN,AMPICILLINSULBACTAM,CARBENICILLIN,CEF...  CR80/81-1148848  "
      ]
     },
     "execution_count": 42,
     "metadata": {},
     "output_type": "execute_result"
    }
   ],
   "source": [
    "blood_HAI"
   ]
  },
  {
   "cell_type": "code",
   "execution_count": 43,
   "metadata": {},
   "outputs": [
    {
     "data": {
      "text/html": [
       "<div>\n",
       "<style scoped>\n",
       "    .dataframe tbody tr th:only-of-type {\n",
       "        vertical-align: middle;\n",
       "    }\n",
       "\n",
       "    .dataframe tbody tr th {\n",
       "        vertical-align: top;\n",
       "    }\n",
       "\n",
       "    .dataframe thead th {\n",
       "        text-align: right;\n",
       "    }\n",
       "</style>\n",
       "<table border=\"1\" class=\"dataframe\">\n",
       "  <thead>\n",
       "    <tr style=\"text-align: right;\">\n",
       "      <th></th>\n",
       "      <th>VERIFIEDDATETIME</th>\n",
       "      <th>Name</th>\n",
       "      <th>Age</th>\n",
       "      <th>Sex</th>\n",
       "      <th>Patientid</th>\n",
       "      <th>Sampleno</th>\n",
       "      <th>WARDNAME</th>\n",
       "      <th>SAMPLETAKENDATE</th>\n",
       "      <th>TESTNAME</th>\n",
       "      <th>Finding</th>\n",
       "      <th>Sensitivity</th>\n",
       "      <th>Intermediate</th>\n",
       "      <th>Resistant</th>\n",
       "      <th>BILLNO</th>\n",
       "    </tr>\n",
       "  </thead>\n",
       "  <tbody>\n",
       "    <tr>\n",
       "      <th>0</th>\n",
       "      <td>2081-03-04 08:57:08</td>\n",
       "      <td>UNIYES MUKHIYA</td>\n",
       "      <td>28 Y</td>\n",
       "      <td>FEMALE</td>\n",
       "      <td>80124162</td>\n",
       "      <td>2081-N80098</td>\n",
       "      <td>GYNAE WARD</td>\n",
       "      <td>2081/02/31</td>\n",
       "      <td>BLOOD  C/S</td>\n",
       "      <td>BLOOD,Pseudomonas species</td>\n",
       "      <td>CIPROFLOXACIN,LEVOFLOXACIN,MEROPENEM</td>\n",
       "      <td>TOBRAMYCIN</td>\n",
       "      <td>AMIKACIN,AMPICILLINSULBACTAM,CARBENICILLIN,CEF...</td>\n",
       "      <td>CR80/81-1148848</td>\n",
       "    </tr>\n",
       "  </tbody>\n",
       "</table>\n",
       "</div>"
      ],
      "text/plain": [
       "     VERIFIEDDATETIME            Name   Age     Sex  Patientid     Sampleno  \\\n",
       "0 2081-03-04 08:57:08  UNIYES MUKHIYA  28 Y  FEMALE   80124162  2081-N80098   \n",
       "\n",
       "     WARDNAME SAMPLETAKENDATE    TESTNAME                    Finding  \\\n",
       "0  GYNAE WARD      2081/02/31  BLOOD  C/S  BLOOD,Pseudomonas species   \n",
       "\n",
       "                            Sensitivity Intermediate  \\\n",
       "0  CIPROFLOXACIN,LEVOFLOXACIN,MEROPENEM   TOBRAMYCIN   \n",
       "\n",
       "                                           Resistant           BILLNO  \n",
       "0  AMIKACIN,AMPICILLINSULBACTAM,CARBENICILLIN,CEF...  CR80/81-1148848  "
      ]
     },
     "execution_count": 43,
     "metadata": {},
     "output_type": "execute_result"
    }
   ],
   "source": [
    "blood_HAI=blood_HAI.drop_duplicates(subset='Patientid',keep='first')\n",
    "blood_HAI.head()"
   ]
  },
  {
   "cell_type": "code",
   "execution_count": 44,
   "metadata": {},
   "outputs": [
    {
     "data": {
      "text/html": [
       "<div>\n",
       "<style scoped>\n",
       "    .dataframe tbody tr th:only-of-type {\n",
       "        vertical-align: middle;\n",
       "    }\n",
       "\n",
       "    .dataframe tbody tr th {\n",
       "        vertical-align: top;\n",
       "    }\n",
       "\n",
       "    .dataframe thead th {\n",
       "        text-align: right;\n",
       "    }\n",
       "</style>\n",
       "<table border=\"1\" class=\"dataframe\">\n",
       "  <thead>\n",
       "    <tr style=\"text-align: right;\">\n",
       "      <th></th>\n",
       "      <th>Name</th>\n",
       "      <th>Patientid</th>\n",
       "      <th>Age</th>\n",
       "      <th>Sex</th>\n",
       "      <th>Sampleno</th>\n",
       "      <th>SAMPLETAKENDATE</th>\n",
       "      <th>Finding</th>\n",
       "      <th>Sensitivity</th>\n",
       "      <th>Intermediate</th>\n",
       "      <th>Resistant</th>\n",
       "    </tr>\n",
       "  </thead>\n",
       "  <tbody>\n",
       "    <tr>\n",
       "      <th>0</th>\n",
       "      <td>BHOLA MANDAL</td>\n",
       "      <td>80217266</td>\n",
       "      <td>65 Y</td>\n",
       "      <td>MALE</td>\n",
       "      <td>2081-N76419</td>\n",
       "      <td>2081/02/29</td>\n",
       "      <td>Pseudomonas aeruginosa</td>\n",
       "      <td>POLYMYXIN-B</td>\n",
       "      <td>NaN</td>\n",
       "      <td>AMIKACIN,CEFTAZIDIME,CEFTRIAXONE,GENTAMICIN,IM...</td>\n",
       "    </tr>\n",
       "    <tr>\n",
       "      <th>1</th>\n",
       "      <td>BISHESWAR SANT</td>\n",
       "      <td>80229785</td>\n",
       "      <td>53 Y</td>\n",
       "      <td>MALE</td>\n",
       "      <td>2081-N78552</td>\n",
       "      <td>2081/02/30</td>\n",
       "      <td>Pseudomonas SPP.</td>\n",
       "      <td>AMIKACIN,CEFTAZIDIME,LEVOFLOXACIN</td>\n",
       "      <td>TOBRAMYCIN</td>\n",
       "      <td>CARBENICILLIN,IMIPENEM,PIPERACILLIN</td>\n",
       "    </tr>\n",
       "    <tr>\n",
       "      <th>2</th>\n",
       "      <td>KALABATI CHAUDHARY</td>\n",
       "      <td>80223308</td>\n",
       "      <td>55 Y</td>\n",
       "      <td>FEMALE</td>\n",
       "      <td>2081-N84948</td>\n",
       "      <td>2081-03-03 00:00:00</td>\n",
       "      <td>NaN</td>\n",
       "      <td>NaN</td>\n",
       "      <td>NaN</td>\n",
       "      <td>NaN</td>\n",
       "    </tr>\n",
       "    <tr>\n",
       "      <th>3</th>\n",
       "      <td>KISHOR KUMAR SHRESTHA</td>\n",
       "      <td>80233987</td>\n",
       "      <td>63 Y</td>\n",
       "      <td>MALE</td>\n",
       "      <td>2081-N85094</td>\n",
       "      <td>2081-03-03 00:00:00</td>\n",
       "      <td>NaN</td>\n",
       "      <td>NaN</td>\n",
       "      <td>NaN</td>\n",
       "      <td>NaN</td>\n",
       "    </tr>\n",
       "    <tr>\n",
       "      <th>4</th>\n",
       "      <td>KISHOR KUMAR SHRESTHA</td>\n",
       "      <td>80233987</td>\n",
       "      <td>63 Y</td>\n",
       "      <td>MALE</td>\n",
       "      <td>2081-N85732</td>\n",
       "      <td>2081-03-04 00:00:00</td>\n",
       "      <td>NaN</td>\n",
       "      <td>NaN</td>\n",
       "      <td>NaN</td>\n",
       "      <td>NaN</td>\n",
       "    </tr>\n",
       "  </tbody>\n",
       "</table>\n",
       "</div>"
      ],
      "text/plain": [
       "                    Name  Patientid   Age     Sex     Sampleno  \\\n",
       "0           BHOLA MANDAL   80217266  65 Y    MALE  2081-N76419   \n",
       "1         BISHESWAR SANT   80229785  53 Y    MALE  2081-N78552   \n",
       "2     KALABATI CHAUDHARY   80223308  55 Y  FEMALE  2081-N84948   \n",
       "3  KISHOR KUMAR SHRESTHA   80233987  63 Y    MALE  2081-N85094   \n",
       "4  KISHOR KUMAR SHRESTHA   80233987  63 Y    MALE  2081-N85732   \n",
       "\n",
       "       SAMPLETAKENDATE                 Finding  \\\n",
       "0           2081/02/29  Pseudomonas aeruginosa   \n",
       "1           2081/02/30        Pseudomonas SPP.   \n",
       "2  2081-03-03 00:00:00                     NaN   \n",
       "3  2081-03-03 00:00:00                     NaN   \n",
       "4  2081-03-04 00:00:00                     NaN   \n",
       "\n",
       "                         Sensitivity Intermediate  \\\n",
       "0                        POLYMYXIN-B          NaN   \n",
       "1  AMIKACIN,CEFTAZIDIME,LEVOFLOXACIN   TOBRAMYCIN   \n",
       "2                                NaN          NaN   \n",
       "3                                NaN          NaN   \n",
       "4                                NaN          NaN   \n",
       "\n",
       "                                           Resistant  \n",
       "0  AMIKACIN,CEFTAZIDIME,CEFTRIAXONE,GENTAMICIN,IM...  \n",
       "1                CARBENICILLIN,IMIPENEM,PIPERACILLIN  \n",
       "2                                                NaN  \n",
       "3                                                NaN  \n",
       "4                                                NaN  "
      ]
     },
     "execution_count": 44,
     "metadata": {},
     "output_type": "execute_result"
    }
   ],
   "source": [
    "bal=bal[['Name', 'Patientid', 'Age', 'Sex', 'Sampleno',\n",
    "       'SAMPLETAKENDATE', 'Finding', 'Sensitivity', 'Intermediate',\n",
    "       'Resistant']]\n",
    "bal"
   ]
  },
  {
   "cell_type": "code",
   "execution_count": 45,
   "metadata": {},
   "outputs": [
    {
     "data": {
      "text/html": [
       "<div>\n",
       "<style scoped>\n",
       "    .dataframe tbody tr th:only-of-type {\n",
       "        vertical-align: middle;\n",
       "    }\n",
       "\n",
       "    .dataframe tbody tr th {\n",
       "        vertical-align: top;\n",
       "    }\n",
       "\n",
       "    .dataframe thead th {\n",
       "        text-align: right;\n",
       "    }\n",
       "</style>\n",
       "<table border=\"1\" class=\"dataframe\">\n",
       "  <thead>\n",
       "    <tr style=\"text-align: right;\">\n",
       "      <th></th>\n",
       "      <th>Name</th>\n",
       "      <th>Patientid</th>\n",
       "      <th>Age</th>\n",
       "      <th>Sex</th>\n",
       "      <th>Sampleno</th>\n",
       "      <th>SAMPLETAKENDATE</th>\n",
       "      <th>Finding</th>\n",
       "      <th>Sensitivity</th>\n",
       "      <th>Intermediate</th>\n",
       "      <th>Resistant</th>\n",
       "    </tr>\n",
       "  </thead>\n",
       "  <tbody>\n",
       "    <tr>\n",
       "      <th>0</th>\n",
       "      <td>BHOLA MANDAL</td>\n",
       "      <td>80217266</td>\n",
       "      <td>65 Y</td>\n",
       "      <td>MALE</td>\n",
       "      <td>2081-N76419</td>\n",
       "      <td>2081/02/29</td>\n",
       "      <td>Pseudomonas aeruginosa</td>\n",
       "      <td>POLYMYXIN-B</td>\n",
       "      <td>NaN</td>\n",
       "      <td>AMIKACIN,CEFTAZIDIME,CEFTRIAXONE,GENTAMICIN,IM...</td>\n",
       "    </tr>\n",
       "    <tr>\n",
       "      <th>1</th>\n",
       "      <td>BISHESWAR SANT</td>\n",
       "      <td>80229785</td>\n",
       "      <td>53 Y</td>\n",
       "      <td>MALE</td>\n",
       "      <td>2081-N78552</td>\n",
       "      <td>2081/02/30</td>\n",
       "      <td>Pseudomonas SPP.</td>\n",
       "      <td>AMIKACIN,CEFTAZIDIME,LEVOFLOXACIN</td>\n",
       "      <td>TOBRAMYCIN</td>\n",
       "      <td>CARBENICILLIN,IMIPENEM,PIPERACILLIN</td>\n",
       "    </tr>\n",
       "  </tbody>\n",
       "</table>\n",
       "</div>"
      ],
      "text/plain": [
       "             Name  Patientid   Age   Sex     Sampleno SAMPLETAKENDATE  \\\n",
       "0    BHOLA MANDAL   80217266  65 Y  MALE  2081-N76419      2081/02/29   \n",
       "1  BISHESWAR SANT   80229785  53 Y  MALE  2081-N78552      2081/02/30   \n",
       "\n",
       "                  Finding                        Sensitivity Intermediate  \\\n",
       "0  Pseudomonas aeruginosa                        POLYMYXIN-B          NaN   \n",
       "1        Pseudomonas SPP.  AMIKACIN,CEFTAZIDIME,LEVOFLOXACIN   TOBRAMYCIN   \n",
       "\n",
       "                                           Resistant  \n",
       "0  AMIKACIN,CEFTAZIDIME,CEFTRIAXONE,GENTAMICIN,IM...  \n",
       "1                CARBENICILLIN,IMIPENEM,PIPERACILLIN  "
      ]
     },
     "execution_count": 45,
     "metadata": {},
     "output_type": "execute_result"
    }
   ],
   "source": [
    "bal_today = bal.loc[~bal['Finding'].str.contains(\"Culture|CANDIDA|Coagulase\",na=True)]\n",
    "bal_today"
   ]
  },
  {
   "cell_type": "code",
   "execution_count": 46,
   "metadata": {},
   "outputs": [
    {
     "data": {
      "text/html": [
       "<div>\n",
       "<style scoped>\n",
       "    .dataframe tbody tr th:only-of-type {\n",
       "        vertical-align: middle;\n",
       "    }\n",
       "\n",
       "    .dataframe tbody tr th {\n",
       "        vertical-align: top;\n",
       "    }\n",
       "\n",
       "    .dataframe thead th {\n",
       "        text-align: right;\n",
       "    }\n",
       "</style>\n",
       "<table border=\"1\" class=\"dataframe\">\n",
       "  <thead>\n",
       "    <tr style=\"text-align: right;\">\n",
       "      <th></th>\n",
       "      <th>Name</th>\n",
       "      <th>Patientid</th>\n",
       "      <th>Age</th>\n",
       "      <th>Sex</th>\n",
       "      <th>Sampleno</th>\n",
       "      <th>SAMPLETAKENDATE</th>\n",
       "      <th>Finding</th>\n",
       "      <th>Sensitivity</th>\n",
       "      <th>Intermediate</th>\n",
       "      <th>Resistant</th>\n",
       "    </tr>\n",
       "  </thead>\n",
       "  <tbody>\n",
       "    <tr>\n",
       "      <th>0</th>\n",
       "      <td>JANG BAHADUR RAI</td>\n",
       "      <td>80237660</td>\n",
       "      <td>77 Y</td>\n",
       "      <td>MALE</td>\n",
       "      <td>2081-N82342</td>\n",
       "      <td>2081-03-02</td>\n",
       "      <td>NaN</td>\n",
       "      <td>NaN</td>\n",
       "      <td>NaN</td>\n",
       "      <td>NaN</td>\n",
       "    </tr>\n",
       "  </tbody>\n",
       "</table>\n",
       "</div>"
      ],
      "text/plain": [
       "               Name  Patientid   Age   Sex     Sampleno SAMPLETAKENDATE  \\\n",
       "0  JANG BAHADUR RAI   80237660  77 Y  MALE  2081-N82342      2081-03-02   \n",
       "\n",
       "   Finding  Sensitivity  Intermediate  Resistant  \n",
       "0      NaN          NaN           NaN        NaN  "
      ]
     },
     "execution_count": 46,
     "metadata": {},
     "output_type": "execute_result"
    }
   ],
   "source": [
    "et[['Name', 'Patientid', 'Age', 'Sex', 'Sampleno',\n",
    "       'SAMPLETAKENDATE', 'Finding', 'Sensitivity', 'Intermediate',\n",
    "       'Resistant']]"
   ]
  },
  {
   "cell_type": "code",
   "execution_count": 47,
   "metadata": {},
   "outputs": [
    {
     "ename": "AttributeError",
     "evalue": "Can only use .str accessor with string values!",
     "output_type": "error",
     "traceback": [
      "\u001b[1;31m---------------------------------------------------------------------------\u001b[0m",
      "\u001b[1;31mAttributeError\u001b[0m                            Traceback (most recent call last)",
      "Cell \u001b[1;32mIn[47], line 1\u001b[0m\n\u001b[1;32m----> 1\u001b[0m et_today \u001b[38;5;241m=\u001b[39m et\u001b[38;5;241m.\u001b[39mloc[\u001b[38;5;241m~\u001b[39m\u001b[43met\u001b[49m\u001b[43m[\u001b[49m\u001b[38;5;124;43m'\u001b[39;49m\u001b[38;5;124;43mFinding\u001b[39;49m\u001b[38;5;124;43m'\u001b[39;49m\u001b[43m]\u001b[49m\u001b[38;5;241;43m.\u001b[39;49m\u001b[43mstr\u001b[49m\u001b[38;5;241m.\u001b[39mcontains(\u001b[38;5;124m\"\u001b[39m\u001b[38;5;124mCulture|CANDIDA|Coagulase\u001b[39m\u001b[38;5;124m\"\u001b[39m,na\u001b[38;5;241m=\u001b[39m\u001b[38;5;28;01mTrue\u001b[39;00m)]\n\u001b[0;32m      2\u001b[0m et_today\n",
      "File \u001b[1;32m~\\AppData\\Local\\Packages\\PythonSoftwareFoundation.Python.3.11_qbz5n2kfra8p0\\LocalCache\\local-packages\\Python311\\site-packages\\pandas\\core\\generic.py:6299\u001b[0m, in \u001b[0;36mNDFrame.__getattr__\u001b[1;34m(self, name)\u001b[0m\n\u001b[0;32m   6292\u001b[0m \u001b[38;5;28;01mif\u001b[39;00m (\n\u001b[0;32m   6293\u001b[0m     name \u001b[38;5;129;01mnot\u001b[39;00m \u001b[38;5;129;01min\u001b[39;00m \u001b[38;5;28mself\u001b[39m\u001b[38;5;241m.\u001b[39m_internal_names_set\n\u001b[0;32m   6294\u001b[0m     \u001b[38;5;129;01mand\u001b[39;00m name \u001b[38;5;129;01mnot\u001b[39;00m \u001b[38;5;129;01min\u001b[39;00m \u001b[38;5;28mself\u001b[39m\u001b[38;5;241m.\u001b[39m_metadata\n\u001b[0;32m   6295\u001b[0m     \u001b[38;5;129;01mand\u001b[39;00m name \u001b[38;5;129;01mnot\u001b[39;00m \u001b[38;5;129;01min\u001b[39;00m \u001b[38;5;28mself\u001b[39m\u001b[38;5;241m.\u001b[39m_accessors\n\u001b[0;32m   6296\u001b[0m     \u001b[38;5;129;01mand\u001b[39;00m \u001b[38;5;28mself\u001b[39m\u001b[38;5;241m.\u001b[39m_info_axis\u001b[38;5;241m.\u001b[39m_can_hold_identifiers_and_holds_name(name)\n\u001b[0;32m   6297\u001b[0m ):\n\u001b[0;32m   6298\u001b[0m     \u001b[38;5;28;01mreturn\u001b[39;00m \u001b[38;5;28mself\u001b[39m[name]\n\u001b[1;32m-> 6299\u001b[0m \u001b[38;5;28;01mreturn\u001b[39;00m \u001b[38;5;28;43mobject\u001b[39;49m\u001b[38;5;241;43m.\u001b[39;49m\u001b[38;5;21;43m__getattribute__\u001b[39;49m\u001b[43m(\u001b[49m\u001b[38;5;28;43mself\u001b[39;49m\u001b[43m,\u001b[49m\u001b[43m \u001b[49m\u001b[43mname\u001b[49m\u001b[43m)\u001b[49m\n",
      "File \u001b[1;32m~\\AppData\\Local\\Packages\\PythonSoftwareFoundation.Python.3.11_qbz5n2kfra8p0\\LocalCache\\local-packages\\Python311\\site-packages\\pandas\\core\\accessor.py:224\u001b[0m, in \u001b[0;36mCachedAccessor.__get__\u001b[1;34m(self, obj, cls)\u001b[0m\n\u001b[0;32m    221\u001b[0m \u001b[38;5;28;01mif\u001b[39;00m obj \u001b[38;5;129;01mis\u001b[39;00m \u001b[38;5;28;01mNone\u001b[39;00m:\n\u001b[0;32m    222\u001b[0m     \u001b[38;5;66;03m# we're accessing the attribute of the class, i.e., Dataset.geo\u001b[39;00m\n\u001b[0;32m    223\u001b[0m     \u001b[38;5;28;01mreturn\u001b[39;00m \u001b[38;5;28mself\u001b[39m\u001b[38;5;241m.\u001b[39m_accessor\n\u001b[1;32m--> 224\u001b[0m accessor_obj \u001b[38;5;241m=\u001b[39m \u001b[38;5;28;43mself\u001b[39;49m\u001b[38;5;241;43m.\u001b[39;49m\u001b[43m_accessor\u001b[49m\u001b[43m(\u001b[49m\u001b[43mobj\u001b[49m\u001b[43m)\u001b[49m\n\u001b[0;32m    225\u001b[0m \u001b[38;5;66;03m# Replace the property with the accessor object. Inspired by:\u001b[39;00m\n\u001b[0;32m    226\u001b[0m \u001b[38;5;66;03m# https://www.pydanny.com/cached-property.html\u001b[39;00m\n\u001b[0;32m    227\u001b[0m \u001b[38;5;66;03m# We need to use object.__setattr__ because we overwrite __setattr__ on\u001b[39;00m\n\u001b[0;32m    228\u001b[0m \u001b[38;5;66;03m# NDFrame\u001b[39;00m\n\u001b[0;32m    229\u001b[0m \u001b[38;5;28mobject\u001b[39m\u001b[38;5;241m.\u001b[39m\u001b[38;5;21m__setattr__\u001b[39m(obj, \u001b[38;5;28mself\u001b[39m\u001b[38;5;241m.\u001b[39m_name, accessor_obj)\n",
      "File \u001b[1;32m~\\AppData\\Local\\Packages\\PythonSoftwareFoundation.Python.3.11_qbz5n2kfra8p0\\LocalCache\\local-packages\\Python311\\site-packages\\pandas\\core\\strings\\accessor.py:191\u001b[0m, in \u001b[0;36mStringMethods.__init__\u001b[1;34m(self, data)\u001b[0m\n\u001b[0;32m    188\u001b[0m \u001b[38;5;28;01mdef\u001b[39;00m \u001b[38;5;21m__init__\u001b[39m(\u001b[38;5;28mself\u001b[39m, data) \u001b[38;5;241m-\u001b[39m\u001b[38;5;241m>\u001b[39m \u001b[38;5;28;01mNone\u001b[39;00m:\n\u001b[0;32m    189\u001b[0m     \u001b[38;5;28;01mfrom\u001b[39;00m \u001b[38;5;21;01mpandas\u001b[39;00m\u001b[38;5;21;01m.\u001b[39;00m\u001b[38;5;21;01mcore\u001b[39;00m\u001b[38;5;21;01m.\u001b[39;00m\u001b[38;5;21;01marrays\u001b[39;00m\u001b[38;5;21;01m.\u001b[39;00m\u001b[38;5;21;01mstring_\u001b[39;00m \u001b[38;5;28;01mimport\u001b[39;00m StringDtype\n\u001b[1;32m--> 191\u001b[0m     \u001b[38;5;28mself\u001b[39m\u001b[38;5;241m.\u001b[39m_inferred_dtype \u001b[38;5;241m=\u001b[39m \u001b[38;5;28;43mself\u001b[39;49m\u001b[38;5;241;43m.\u001b[39;49m\u001b[43m_validate\u001b[49m\u001b[43m(\u001b[49m\u001b[43mdata\u001b[49m\u001b[43m)\u001b[49m\n\u001b[0;32m    192\u001b[0m     \u001b[38;5;28mself\u001b[39m\u001b[38;5;241m.\u001b[39m_is_categorical \u001b[38;5;241m=\u001b[39m \u001b[38;5;28misinstance\u001b[39m(data\u001b[38;5;241m.\u001b[39mdtype, CategoricalDtype)\n\u001b[0;32m    193\u001b[0m     \u001b[38;5;28mself\u001b[39m\u001b[38;5;241m.\u001b[39m_is_string \u001b[38;5;241m=\u001b[39m \u001b[38;5;28misinstance\u001b[39m(data\u001b[38;5;241m.\u001b[39mdtype, StringDtype)\n",
      "File \u001b[1;32m~\\AppData\\Local\\Packages\\PythonSoftwareFoundation.Python.3.11_qbz5n2kfra8p0\\LocalCache\\local-packages\\Python311\\site-packages\\pandas\\core\\strings\\accessor.py:245\u001b[0m, in \u001b[0;36mStringMethods._validate\u001b[1;34m(data)\u001b[0m\n\u001b[0;32m    242\u001b[0m inferred_dtype \u001b[38;5;241m=\u001b[39m lib\u001b[38;5;241m.\u001b[39minfer_dtype(values, skipna\u001b[38;5;241m=\u001b[39m\u001b[38;5;28;01mTrue\u001b[39;00m)\n\u001b[0;32m    244\u001b[0m \u001b[38;5;28;01mif\u001b[39;00m inferred_dtype \u001b[38;5;129;01mnot\u001b[39;00m \u001b[38;5;129;01min\u001b[39;00m allowed_types:\n\u001b[1;32m--> 245\u001b[0m     \u001b[38;5;28;01mraise\u001b[39;00m \u001b[38;5;167;01mAttributeError\u001b[39;00m(\u001b[38;5;124m\"\u001b[39m\u001b[38;5;124mCan only use .str accessor with string values!\u001b[39m\u001b[38;5;124m\"\u001b[39m)\n\u001b[0;32m    246\u001b[0m \u001b[38;5;28;01mreturn\u001b[39;00m inferred_dtype\n",
      "\u001b[1;31mAttributeError\u001b[0m: Can only use .str accessor with string values!"
     ]
    }
   ],
   "source": [
    "et_today = et.loc[~et['Finding'].str.contains(\"Culture|CANDIDA|Coagulase\",na=True)]\n",
    "et_today"
   ]
  },
  {
   "cell_type": "code",
   "execution_count": 48,
   "metadata": {},
   "outputs": [
    {
     "name": "stderr",
     "output_type": "stream",
     "text": [
      "C:\\Users\\Dell\\AppData\\Local\\Temp\\ipykernel_14584\\2726126569.py:1: SettingWithCopyWarning: \n",
      "A value is trying to be set on a copy of a slice from a DataFrame\n",
      "\n",
      "See the caveats in the documentation: https://pandas.pydata.org/pandas-docs/stable/user_guide/indexing.html#returning-a-view-versus-a-copy\n",
      "  sample_bal.rename(columns = {'RUNNO' : 'BILLNO'}, inplace = True)\n"
     ]
    }
   ],
   "source": [
    "sample_bal.rename(columns = {'RUNNO' : 'BILLNO'}, inplace = True)"
   ]
  },
  {
   "cell_type": "code",
   "execution_count": 49,
   "metadata": {},
   "outputs": [
    {
     "name": "stderr",
     "output_type": "stream",
     "text": [
      "C:\\Users\\Dell\\AppData\\Local\\Temp\\ipykernel_14584\\111709958.py:1: SettingWithCopyWarning: \n",
      "A value is trying to be set on a copy of a slice from a DataFrame\n",
      "\n",
      "See the caveats in the documentation: https://pandas.pydata.org/pandas-docs/stable/user_guide/indexing.html#returning-a-view-versus-a-copy\n",
      "  sample_bal.rename(columns = {'patientid' : 'Patientid'}, inplace = True)\n",
      "C:\\Users\\Dell\\AppData\\Local\\Temp\\ipykernel_14584\\111709958.py:2: SettingWithCopyWarning: \n",
      "A value is trying to be set on a copy of a slice from a DataFrame\n",
      "\n",
      "See the caveats in the documentation: https://pandas.pydata.org/pandas-docs/stable/user_guide/indexing.html#returning-a-view-versus-a-copy\n",
      "  sample_bal.rename(columns = {'agesex' : 'AGESEX'}, inplace = True)\n"
     ]
    }
   ],
   "source": [
    "sample_bal.rename(columns = {'patientid' : 'Patientid'}, inplace = True)\n",
    "sample_bal.rename(columns = {'agesex' : 'AGESEX'}, inplace = True)"
   ]
  },
  {
   "cell_type": "code",
   "execution_count": 50,
   "metadata": {},
   "outputs": [
    {
     "data": {
      "text/plain": [
       "Index(['S.No', 'Patientid', 'patientname', 'SN', 'Testname', 'BILLNO',\n",
       "       'AGESEX_x', 'modifytime', 'Result', 'PATIENTTYPE_x', 'WARDNAME',\n",
       "       'SAMPLETAKENTIME', 'SNO', 'PATIENTID', 'VISITID', 'INPATIENTID',\n",
       "       'TESTNAMEID', 'PATIENTTESTID', 'TESTPACKAGEID', 'CANCELSTATUS',\n",
       "       'AGESEX_y', 'ISPACKAGETEST', 'DEPTYPE', 'TESTDATE', 'TESTTIME',\n",
       "       'PATIENTTESTDATE', 'PATIENTTESTTIME', 'TESTPROGRESSSTATUS',\n",
       "       'ISHRISWEBUPLOAD', 'FINDINGPOSTBY', 'FINDINGPOSTDATETIME', 'VERIFIEDBY',\n",
       "       'COLLECTEDBY', 'VERIFIEDDATETIME', 'TITLE', 'PATIENTNAME', 'SAMPLENO',\n",
       "       'NEWINPATIENTID', 'TESTNAME', 'TESTNAMECODE', 'DEPID', 'LABNO',\n",
       "       'DISPER', 'PATIENTTYPE_y', 'MOBILENO', 'LOCATIONWISEID',\n",
       "       'ISMACHINERESULT'],\n",
       "      dtype='object')"
      ]
     },
     "execution_count": 50,
     "metadata": {},
     "output_type": "execute_result"
    }
   ],
   "source": [
    "sample_combined_bal = sample_bal.merge(sample_st_bal,how='inner',on='BILLNO')\n",
    "sample_combined_bal.columns"
   ]
  },
  {
   "cell_type": "code",
   "execution_count": 51,
   "metadata": {},
   "outputs": [
    {
     "data": {
      "text/html": [
       "<div>\n",
       "<style scoped>\n",
       "    .dataframe tbody tr th:only-of-type {\n",
       "        vertical-align: middle;\n",
       "    }\n",
       "\n",
       "    .dataframe tbody tr th {\n",
       "        vertical-align: top;\n",
       "    }\n",
       "\n",
       "    .dataframe thead th {\n",
       "        text-align: right;\n",
       "    }\n",
       "</style>\n",
       "<table border=\"1\" class=\"dataframe\">\n",
       "  <thead>\n",
       "    <tr style=\"text-align: right;\">\n",
       "      <th></th>\n",
       "      <th>Patientid</th>\n",
       "      <th>patientname</th>\n",
       "      <th>Testname</th>\n",
       "      <th>BILLNO</th>\n",
       "      <th>WARDNAME</th>\n",
       "      <th>SAMPLETAKENTIME</th>\n",
       "      <th>VERIFIEDBY</th>\n",
       "      <th>VERIFIEDDATETIME</th>\n",
       "      <th>SAMPLENO</th>\n",
       "    </tr>\n",
       "  </thead>\n",
       "  <tbody>\n",
       "  </tbody>\n",
       "</table>\n",
       "</div>"
      ],
      "text/plain": [
       "Empty DataFrame\n",
       "Columns: [Patientid, patientname, Testname, BILLNO, WARDNAME, SAMPLETAKENTIME, VERIFIEDBY, VERIFIEDDATETIME, SAMPLENO]\n",
       "Index: []"
      ]
     },
     "execution_count": 51,
     "metadata": {},
     "output_type": "execute_result"
    }
   ],
   "source": [
    "sample_combined_bal[['Patientid', 'patientname', 'Testname', 'BILLNO',\n",
    "        'WARDNAME',\n",
    "       'SAMPLETAKENTIME',  'VERIFIEDBY',\n",
    "       'VERIFIEDDATETIME',  'SAMPLENO']]"
   ]
  },
  {
   "cell_type": "code",
   "execution_count": 52,
   "metadata": {},
   "outputs": [
    {
     "data": {
      "text/plain": [
       "(0, 56)"
      ]
     },
     "execution_count": 52,
     "metadata": {},
     "output_type": "execute_result"
    }
   ],
   "source": [
    "bal_HAI = bal_today.merge(sample_combined_bal,how='inner',on='Patientid')\n",
    "bal_HAI.shape"
   ]
  },
  {
   "cell_type": "code",
   "execution_count": 53,
   "metadata": {},
   "outputs": [],
   "source": [
    "bal_HAI = bal_HAI[['Name', 'Patientid', 'Age', 'Sex', 'Sampleno', 'WARDNAME', 'SAMPLETAKENDATE',\n",
    "       'Finding', 'Sensitivity', 'Intermediate', 'Resistant','Testname', 'BILLNO','VERIFIEDBY', 'COLLECTEDBY', 'VERIFIEDDATETIME',]].copy()"
   ]
  },
  {
   "cell_type": "code",
   "execution_count": 54,
   "metadata": {},
   "outputs": [
    {
     "data": {
      "text/html": [
       "<div>\n",
       "<style scoped>\n",
       "    .dataframe tbody tr th:only-of-type {\n",
       "        vertical-align: middle;\n",
       "    }\n",
       "\n",
       "    .dataframe tbody tr th {\n",
       "        vertical-align: top;\n",
       "    }\n",
       "\n",
       "    .dataframe thead th {\n",
       "        text-align: right;\n",
       "    }\n",
       "</style>\n",
       "<table border=\"1\" class=\"dataframe\">\n",
       "  <thead>\n",
       "    <tr style=\"text-align: right;\">\n",
       "      <th></th>\n",
       "      <th>Name</th>\n",
       "      <th>Patientid</th>\n",
       "      <th>Age</th>\n",
       "      <th>Sex</th>\n",
       "      <th>Sampleno</th>\n",
       "      <th>WARDNAME</th>\n",
       "      <th>SAMPLETAKENDATE</th>\n",
       "      <th>Finding</th>\n",
       "      <th>Sensitivity</th>\n",
       "      <th>Intermediate</th>\n",
       "      <th>Resistant</th>\n",
       "      <th>Testname</th>\n",
       "      <th>BILLNO</th>\n",
       "      <th>VERIFIEDBY</th>\n",
       "      <th>COLLECTEDBY</th>\n",
       "      <th>VERIFIEDDATETIME</th>\n",
       "    </tr>\n",
       "  </thead>\n",
       "  <tbody>\n",
       "  </tbody>\n",
       "</table>\n",
       "</div>"
      ],
      "text/plain": [
       "Empty DataFrame\n",
       "Columns: [Name, Patientid, Age, Sex, Sampleno, WARDNAME, SAMPLETAKENDATE, Finding, Sensitivity, Intermediate, Resistant, Testname, BILLNO, VERIFIEDBY, COLLECTEDBY, VERIFIEDDATETIME]\n",
       "Index: []"
      ]
     },
     "execution_count": 54,
     "metadata": {},
     "output_type": "execute_result"
    }
   ],
   "source": [
    "bal_HAI"
   ]
  },
  {
   "cell_type": "code",
   "execution_count": 55,
   "metadata": {},
   "outputs": [
    {
     "name": "stderr",
     "output_type": "stream",
     "text": [
      "C:\\Users\\Dell\\AppData\\Local\\Temp\\ipykernel_14584\\3373453125.py:1: SettingWithCopyWarning: \n",
      "A value is trying to be set on a copy of a slice from a DataFrame\n",
      "\n",
      "See the caveats in the documentation: https://pandas.pydata.org/pandas-docs/stable/user_guide/indexing.html#returning-a-view-versus-a-copy\n",
      "  sample_et.rename(columns = {'RUNNO' : 'BILLNO'}, inplace = True)\n",
      "C:\\Users\\Dell\\AppData\\Local\\Temp\\ipykernel_14584\\3373453125.py:2: SettingWithCopyWarning: \n",
      "A value is trying to be set on a copy of a slice from a DataFrame\n",
      "\n",
      "See the caveats in the documentation: https://pandas.pydata.org/pandas-docs/stable/user_guide/indexing.html#returning-a-view-versus-a-copy\n",
      "  sample_et.rename(columns = {'patientid' : 'Patientid'}, inplace = True)\n",
      "C:\\Users\\Dell\\AppData\\Local\\Temp\\ipykernel_14584\\3373453125.py:3: SettingWithCopyWarning: \n",
      "A value is trying to be set on a copy of a slice from a DataFrame\n",
      "\n",
      "See the caveats in the documentation: https://pandas.pydata.org/pandas-docs/stable/user_guide/indexing.html#returning-a-view-versus-a-copy\n",
      "  sample_et.rename(columns = {'agesex' : 'AGESEX'}, inplace = True)\n"
     ]
    }
   ],
   "source": [
    "sample_et.rename(columns = {'RUNNO' : 'BILLNO'}, inplace = True)\n",
    "sample_et.rename(columns = {'patientid' : 'Patientid'}, inplace = True)\n",
    "sample_et.rename(columns = {'agesex' : 'AGESEX'}, inplace = True)"
   ]
  },
  {
   "cell_type": "code",
   "execution_count": 56,
   "metadata": {},
   "outputs": [
    {
     "data": {
      "text/plain": [
       "(0, 47)"
      ]
     },
     "execution_count": 56,
     "metadata": {},
     "output_type": "execute_result"
    }
   ],
   "source": [
    "sample_combined_et = sample_et.merge(sample_st_et,how='inner',on='BILLNO')\n",
    "sample_combined_et.shape"
   ]
  },
  {
   "cell_type": "code",
   "execution_count": 57,
   "metadata": {},
   "outputs": [
    {
     "ename": "NameError",
     "evalue": "name 'et_today' is not defined",
     "output_type": "error",
     "traceback": [
      "\u001b[1;31m---------------------------------------------------------------------------\u001b[0m",
      "\u001b[1;31mNameError\u001b[0m                                 Traceback (most recent call last)",
      "Cell \u001b[1;32mIn[57], line 1\u001b[0m\n\u001b[1;32m----> 1\u001b[0m et_HAI \u001b[38;5;241m=\u001b[39m \u001b[43met_today\u001b[49m\u001b[38;5;241m.\u001b[39mmerge(sample_combined_et,how\u001b[38;5;241m=\u001b[39m\u001b[38;5;124m'\u001b[39m\u001b[38;5;124minner\u001b[39m\u001b[38;5;124m'\u001b[39m,on\u001b[38;5;241m=\u001b[39m\u001b[38;5;124m'\u001b[39m\u001b[38;5;124mPatientid\u001b[39m\u001b[38;5;124m'\u001b[39m)\n\u001b[0;32m      2\u001b[0m et_HAI \u001b[38;5;241m=\u001b[39m et_HAI[[\u001b[38;5;124m'\u001b[39m\u001b[38;5;124mPatientid\u001b[39m\u001b[38;5;124m'\u001b[39m, \u001b[38;5;124m'\u001b[39m\u001b[38;5;124mpatientname\u001b[39m\u001b[38;5;124m'\u001b[39m, \u001b[38;5;124m'\u001b[39m\u001b[38;5;124mTestname\u001b[39m\u001b[38;5;124m'\u001b[39m, \u001b[38;5;124m'\u001b[39m\u001b[38;5;124mBILLNO\u001b[39m\u001b[38;5;124m'\u001b[39m,\u001b[38;5;124m'\u001b[39m\u001b[38;5;124mVERIFIEDDATETIME\u001b[39m\u001b[38;5;124m'\u001b[39m,\u001b[38;5;124m'\u001b[39m\u001b[38;5;124mWARDNAME\u001b[39m\u001b[38;5;124m'\u001b[39m,\u001b[38;5;124m'\u001b[39m\u001b[38;5;124mFinding\u001b[39m\u001b[38;5;124m'\u001b[39m]]\u001b[38;5;241m.\u001b[39mcopy()\n\u001b[0;32m      3\u001b[0m et_HAI\n",
      "\u001b[1;31mNameError\u001b[0m: name 'et_today' is not defined"
     ]
    }
   ],
   "source": [
    "et_HAI = et_today.merge(sample_combined_et,how='inner',on='Patientid')\n",
    "et_HAI = et_HAI[['Patientid', 'patientname', 'Testname', 'BILLNO','VERIFIEDDATETIME','WARDNAME','Finding']].copy()\n",
    "et_HAI"
   ]
  },
  {
   "cell_type": "code",
   "execution_count": null,
   "metadata": {},
   "outputs": [],
   "source": [
    "#blood_HAI.to_excel(\"../ACORN-HAI/2023_09_26/ACORN-HAI-BLOOD_2023_09_26.xlsx\")\n",
    "#bal_HAI.to_excel(\"../ACORN-HAI/2023_09_22/ACORN-HAI-BAL_2023_09_22.xlsx\")\n",
    "#et_HAI.to_excel(\"../ACORN-HAI/2023_09_26/ACORN-HAI-ET_2023_09_26.xlsx\")\n",
    "#sample_stat.to_excel(\"../ACORN-HAI/2024_06_16/ACORN-HAI-sample_stat_2024_06_16.xlsx\")"
   ]
  },
  {
   "cell_type": "markdown",
   "metadata": {},
   "source": [
    "Nepali date to english date"
   ]
  },
  {
   "cell_type": "code",
   "execution_count": null,
   "metadata": {},
   "outputs": [],
   "source": [
    "#from nepali_date_converter import english_to_nepali_converter\n",
    "#from nepali_date_converter import nepali_to_english_converter"
   ]
  },
  {
   "cell_type": "code",
   "execution_count": null,
   "metadata": {},
   "outputs": [],
   "source": [
    "#english_to_nepali_converter(2024,6,7)"
   ]
  },
  {
   "cell_type": "code",
   "execution_count": null,
   "metadata": {},
   "outputs": [],
   "source": [
    "#nepali_to_english_converter(2081,2,27)"
   ]
  }
 ],
 "metadata": {
  "kernelspec": {
   "display_name": "base",
   "language": "python",
   "name": "python3"
  },
  "language_info": {
   "codemirror_mode": {
    "name": "ipython",
    "version": 3
   },
   "file_extension": ".py",
   "mimetype": "text/x-python",
   "name": "python",
   "nbconvert_exporter": "python",
   "pygments_lexer": "ipython3",
   "version": "3.11.9"
  },
  "orig_nbformat": 4
 },
 "nbformat": 4,
 "nbformat_minor": 2
}
